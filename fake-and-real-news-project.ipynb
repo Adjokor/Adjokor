{
 "cells": [
  {
   "cell_type": "code",
   "execution_count": 1,
   "id": "af57e9c5",
   "metadata": {
    "_cell_guid": "b1076dfc-b9ad-4769-8c92-a6c4dae69d19",
    "_uuid": "8f2839f25d086af736a60e9eeb907d3b93b6e0e5",
    "execution": {
     "iopub.execute_input": "2024-06-04T15:51:36.328579Z",
     "iopub.status.busy": "2024-06-04T15:51:36.327878Z",
     "iopub.status.idle": "2024-06-04T15:51:37.285555Z",
     "shell.execute_reply": "2024-06-04T15:51:37.284299Z"
    },
    "papermill": {
     "duration": 0.965983,
     "end_time": "2024-06-04T15:51:37.288298",
     "exception": false,
     "start_time": "2024-06-04T15:51:36.322315",
     "status": "completed"
    },
    "tags": []
   },
   "outputs": [
    {
     "name": "stdout",
     "output_type": "stream",
     "text": [
      "/kaggle/input/fake-and-real-news-dataset/True.csv\n",
      "/kaggle/input/fake-and-real-news-dataset/Fake.csv\n"
     ]
    }
   ],
   "source": [
    "# This Python 3 environment comes with many helpful analytics libraries installed\n",
    "# It is defined by the kaggle/python Docker image: https://github.com/kaggle/docker-python\n",
    "# For example, here's several helpful packages to load\n",
    "\n",
    "import numpy as np # linear algebra\n",
    "import pandas as pd # data processing, CSV file I/O (e.g. pd.read_csv)\n",
    "\n",
    "# Input data files are available in the read-only \"../input/\" directory\n",
    "# For example, running this (by clicking run or pressing Shift+Enter) will list all files under the input directory\n",
    "\n",
    "import os\n",
    "for dirname, _, filenames in os.walk('/kaggle/input'):\n",
    "    for filename in filenames:\n",
    "        print(os.path.join(dirname, filename))\n",
    "\n",
    "# You can write up to 20GB to the current directory (/kaggle/working/) that gets preserved as output when you create a version using \"Save & Run All\" \n",
    "# You can also write temporary files to /kaggle/temp/, but they won't be saved outside of the current session"
   ]
  },
  {
   "cell_type": "code",
   "execution_count": 2,
   "id": "95b44758",
   "metadata": {
    "execution": {
     "iopub.execute_input": "2024-06-04T15:51:37.296477Z",
     "iopub.status.busy": "2024-06-04T15:51:37.295937Z",
     "iopub.status.idle": "2024-06-04T15:51:40.450687Z",
     "shell.execute_reply": "2024-06-04T15:51:40.449445Z"
    },
    "papermill": {
     "duration": 3.162042,
     "end_time": "2024-06-04T15:51:40.453766",
     "exception": false,
     "start_time": "2024-06-04T15:51:37.291724",
     "status": "completed"
    },
    "tags": []
   },
   "outputs": [],
   "source": [
    "#loading data\n",
    "true = pd.read_csv(\"/kaggle/input/fake-and-real-news-dataset/True.csv\")\n",
    "fake = pd.read_csv(\"/kaggle/input/fake-and-real-news-dataset/Fake.csv\")"
   ]
  },
  {
   "cell_type": "code",
   "execution_count": 3,
   "id": "16af833c",
   "metadata": {
    "execution": {
     "iopub.execute_input": "2024-06-04T15:51:40.461729Z",
     "iopub.status.busy": "2024-06-04T15:51:40.461319Z",
     "iopub.status.idle": "2024-06-04T15:51:40.484874Z",
     "shell.execute_reply": "2024-06-04T15:51:40.483695Z"
    },
    "papermill": {
     "duration": 0.030423,
     "end_time": "2024-06-04T15:51:40.487374",
     "exception": false,
     "start_time": "2024-06-04T15:51:40.456951",
     "status": "completed"
    },
    "tags": []
   },
   "outputs": [
    {
     "data": {
      "text/html": [
       "<div>\n",
       "<style scoped>\n",
       "    .dataframe tbody tr th:only-of-type {\n",
       "        vertical-align: middle;\n",
       "    }\n",
       "\n",
       "    .dataframe tbody tr th {\n",
       "        vertical-align: top;\n",
       "    }\n",
       "\n",
       "    .dataframe thead th {\n",
       "        text-align: right;\n",
       "    }\n",
       "</style>\n",
       "<table border=\"1\" class=\"dataframe\">\n",
       "  <thead>\n",
       "    <tr style=\"text-align: right;\">\n",
       "      <th></th>\n",
       "      <th>title</th>\n",
       "      <th>text</th>\n",
       "      <th>subject</th>\n",
       "      <th>date</th>\n",
       "    </tr>\n",
       "  </thead>\n",
       "  <tbody>\n",
       "    <tr>\n",
       "      <th>0</th>\n",
       "      <td>Donald Trump Sends Out Embarrassing New Year’...</td>\n",
       "      <td>Donald Trump just couldn t wish all Americans ...</td>\n",
       "      <td>News</td>\n",
       "      <td>December 31, 2017</td>\n",
       "    </tr>\n",
       "    <tr>\n",
       "      <th>1</th>\n",
       "      <td>Drunk Bragging Trump Staffer Started Russian ...</td>\n",
       "      <td>House Intelligence Committee Chairman Devin Nu...</td>\n",
       "      <td>News</td>\n",
       "      <td>December 31, 2017</td>\n",
       "    </tr>\n",
       "    <tr>\n",
       "      <th>2</th>\n",
       "      <td>Sheriff David Clarke Becomes An Internet Joke...</td>\n",
       "      <td>On Friday, it was revealed that former Milwauk...</td>\n",
       "      <td>News</td>\n",
       "      <td>December 30, 2017</td>\n",
       "    </tr>\n",
       "    <tr>\n",
       "      <th>3</th>\n",
       "      <td>Trump Is So Obsessed He Even Has Obama’s Name...</td>\n",
       "      <td>On Christmas day, Donald Trump announced that ...</td>\n",
       "      <td>News</td>\n",
       "      <td>December 29, 2017</td>\n",
       "    </tr>\n",
       "    <tr>\n",
       "      <th>4</th>\n",
       "      <td>Pope Francis Just Called Out Donald Trump Dur...</td>\n",
       "      <td>Pope Francis used his annual Christmas Day mes...</td>\n",
       "      <td>News</td>\n",
       "      <td>December 25, 2017</td>\n",
       "    </tr>\n",
       "  </tbody>\n",
       "</table>\n",
       "</div>"
      ],
      "text/plain": [
       "                                               title  \\\n",
       "0   Donald Trump Sends Out Embarrassing New Year’...   \n",
       "1   Drunk Bragging Trump Staffer Started Russian ...   \n",
       "2   Sheriff David Clarke Becomes An Internet Joke...   \n",
       "3   Trump Is So Obsessed He Even Has Obama’s Name...   \n",
       "4   Pope Francis Just Called Out Donald Trump Dur...   \n",
       "\n",
       "                                                text subject  \\\n",
       "0  Donald Trump just couldn t wish all Americans ...    News   \n",
       "1  House Intelligence Committee Chairman Devin Nu...    News   \n",
       "2  On Friday, it was revealed that former Milwauk...    News   \n",
       "3  On Christmas day, Donald Trump announced that ...    News   \n",
       "4  Pope Francis used his annual Christmas Day mes...    News   \n",
       "\n",
       "                date  \n",
       "0  December 31, 2017  \n",
       "1  December 31, 2017  \n",
       "2  December 30, 2017  \n",
       "3  December 29, 2017  \n",
       "4  December 25, 2017  "
      ]
     },
     "execution_count": 3,
     "metadata": {},
     "output_type": "execute_result"
    }
   ],
   "source": [
    "fake.head()"
   ]
  },
  {
   "cell_type": "code",
   "execution_count": 4,
   "id": "044eab53",
   "metadata": {
    "execution": {
     "iopub.execute_input": "2024-06-04T15:51:40.496031Z",
     "iopub.status.busy": "2024-06-04T15:51:40.495635Z",
     "iopub.status.idle": "2024-06-04T15:51:40.505018Z",
     "shell.execute_reply": "2024-06-04T15:51:40.503935Z"
    },
    "papermill": {
     "duration": 0.016769,
     "end_time": "2024-06-04T15:51:40.507527",
     "exception": false,
     "start_time": "2024-06-04T15:51:40.490758",
     "status": "completed"
    },
    "tags": []
   },
   "outputs": [
    {
     "data": {
      "text/plain": [
       "0               News\n",
       "1               News\n",
       "2               News\n",
       "3               News\n",
       "4               News\n",
       "            ...     \n",
       "23476    Middle-east\n",
       "23477    Middle-east\n",
       "23478    Middle-east\n",
       "23479    Middle-east\n",
       "23480    Middle-east\n",
       "Name: subject, Length: 23481, dtype: object"
      ]
     },
     "execution_count": 4,
     "metadata": {},
     "output_type": "execute_result"
    }
   ],
   "source": [
    "#checking different subjects and their values\n",
    "fake[\"subject\"]#.value.counts()"
   ]
  },
  {
   "cell_type": "code",
   "execution_count": 5,
   "id": "63bc63d9",
   "metadata": {
    "execution": {
     "iopub.execute_input": "2024-06-04T15:51:40.516266Z",
     "iopub.status.busy": "2024-06-04T15:51:40.515864Z",
     "iopub.status.idle": "2024-06-04T15:51:40.533423Z",
     "shell.execute_reply": "2024-06-04T15:51:40.532420Z"
    },
    "papermill": {
     "duration": 0.0249,
     "end_time": "2024-06-04T15:51:40.536032",
     "exception": false,
     "start_time": "2024-06-04T15:51:40.511132",
     "status": "completed"
    },
    "tags": []
   },
   "outputs": [
    {
     "data": {
      "text/plain": [
       "subject\n",
       "politicsNews    11272\n",
       "worldnews       10145\n",
       "Name: count, dtype: int64"
      ]
     },
     "execution_count": 5,
     "metadata": {},
     "output_type": "execute_result"
    }
   ],
   "source": [
    "true.subject.value_counts()"
   ]
  }
 ],
 "metadata": {
  "kaggle": {
   "accelerator": "none",
   "dataSources": [
    {
     "datasetId": 4831777,
     "sourceId": 8165591,
     "sourceType": "datasetVersion"
    }
   ],
   "dockerImageVersionId": 30715,
   "isGpuEnabled": false,
   "isInternetEnabled": false,
   "language": "python",
   "sourceType": "notebook"
  },
  "kernelspec": {
   "display_name": "Python 3",
   "language": "python",
   "name": "python3"
  },
  "language_info": {
   "codemirror_mode": {
    "name": "ipython",
    "version": 3
   },
   "file_extension": ".py",
   "mimetype": "text/x-python",
   "name": "python",
   "nbconvert_exporter": "python",
   "pygments_lexer": "ipython3",
   "version": "3.10.13"
  },
  "papermill": {
   "default_parameters": {},
   "duration": 7.764762,
   "end_time": "2024-06-04T15:51:41.061799",
   "environment_variables": {},
   "exception": null,
   "input_path": "__notebook__.ipynb",
   "output_path": "__notebook__.ipynb",
   "parameters": {},
   "start_time": "2024-06-04T15:51:33.297037",
   "version": "2.5.0"
  }
 },
 "nbformat": 4,
 "nbformat_minor": 5
}
